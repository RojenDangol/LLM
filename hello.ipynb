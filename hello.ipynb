{
 "cells": [
  {
   "cell_type": "code",
   "execution_count": 5,
   "id": "62522270b964d51f",
   "metadata": {},
   "outputs": [
    {
     "name": "stdout",
     "output_type": "stream",
     "text": [
      "Audi\n",
      "A4\n"
     ]
    }
   ],
   "source": [
    "class Car:\n",
    "    def __init__(self,make, model):\n",
    "        self.make = make\n",
    "        self.model = model\n",
    "\n",
    "audi = Car(\"Audi\", \"A4\")\n",
    "print(audi.make)\n",
    "print(audi.model)"
   ]
  },
  {
   "cell_type": "code",
   "execution_count": 8,
   "id": "16839e55",
   "metadata": {},
   "outputs": [
    {
     "name": "stdout",
     "output_type": "stream",
     "text": [
      "Tommy\n",
      "7\n",
      "Tommy Woof!\n"
     ]
    }
   ],
   "source": [
    "class Dog:\n",
    "    def __init__(self, name, age):\n",
    "        self.name = name\n",
    "        self.age = age\n",
    "\n",
    "    def bark(self):\n",
    "        print(f\"{self.name} Woof!\")\n",
    "\n",
    "dog1 =Dog(\"Tommy\", 7)\n",
    "print(dog1.name)\n",
    "print(dog1.age)\n",
    "\n",
    "dog1.bark()"
   ]
  },
  {
   "cell_type": "markdown",
   "id": "be065eb0",
   "metadata": {},
   "source": [
    "Inheritance"
   ]
  },
  {
   "cell_type": "code",
   "execution_count": null,
   "id": "1888f5a5",
   "metadata": {},
   "outputs": [
    {
     "name": "stdout",
     "output_type": "stream",
     "text": [
      "True\n"
     ]
    }
   ],
   "source": [
    "class Animal:\n",
    "    def hasFourLegs(self):\n",
    "        return True\n",
    "    \n",
    "class dog(Animal):\n",
    "    def __init__(self, name, age):\n",
    "        self.name = name\n",
    "        self.age = age\n",
    "\n",
    "    def bark(self):\n",
    "        print(f\"{self.name} Woof!\")\n",
    "\n",
    "dog1 = dog(\"Tommy\", 7)\n",
    "print(dog1.hasFourLegs())"
   ]
  },
  {
   "cell_type": "code",
   "execution_count": 11,
   "id": "9f382585",
   "metadata": {},
   "outputs": [
    {
     "name": "stdout",
     "output_type": "stream",
     "text": [
      "The person is driving electric car\n"
     ]
    }
   ],
   "source": [
    "class Car:\n",
    "    def __init__(self, windows, door, enginetype):\n",
    "        self.windows = windows\n",
    "        self.door = door\n",
    "        self.enginetype = enginetype\n",
    "\n",
    "    def drive(self):\n",
    "        print(f\"The person is driving {self.enginetype} car\")\n",
    "\n",
    "\n",
    "car1 = Car(4, 2, \"electric\")\n",
    "car1.drive()"
   ]
  },
  {
   "cell_type": "code",
   "execution_count": null,
   "id": "fb62a718",
   "metadata": {},
   "outputs": [],
   "source": [
    "class Tesla(Car):\n",
    "    def __init__(self, windows, door, enginetype, is_self_driving):\n",
    "        super().__init__(windows, door, enginetype)\n",
    "        self.is_self_driving = is_self_driving\n",
    "\n",
    "    def selfDrivine(self):\n",
    "        if self.is_self_driving:\n",
    "            print(\"The car is self-driving\")\n",
    "        else:\n",
    "            print(\"The car is not self-driving\")"
   ]
  }
 ],
 "metadata": {
  "kernelspec": {
   "display_name": "Python 3",
   "language": "python",
   "name": "python3"
  },
  "language_info": {
   "codemirror_mode": {
    "name": "ipython",
    "version": 3
   },
   "file_extension": ".py",
   "mimetype": "text/x-python",
   "name": "python",
   "nbconvert_exporter": "python",
   "pygments_lexer": "ipython3",
   "version": "3.12.0"
  }
 },
 "nbformat": 4,
 "nbformat_minor": 5
}
