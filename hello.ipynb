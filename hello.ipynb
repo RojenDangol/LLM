{
 "cells": [
  {
   "cell_type": "code",
   "execution_count": 5,
   "id": "62522270b964d51f",
   "metadata": {},
   "outputs": [
    {
     "name": "stdout",
     "output_type": "stream",
     "text": [
      "Audi\n",
      "A4\n"
     ]
    }
   ],
   "source": [
    "class Car:\n",
    "    def __init__(self,make, model):\n",
    "        self.make = make\n",
    "        self.model = model\n",
    "\n",
    "audi = Car(\"Audi\", \"A4\")\n",
    "print(audi.make)\n",
    "print(audi.model)"
   ]
  },
  {
   "cell_type": "code",
   "execution_count": null,
   "id": "16839e55",
   "metadata": {},
   "outputs": [
    {
     "name": "stdout",
     "output_type": "stream",
     "text": [
      "Tommy\n",
      "7\n"
     ]
    }
   ],
   "source": [
    "class Dog:\n",
    "    def __init__(self, name, age):\n",
    "        self.name = name\n",
    "        self.age = age\n",
    "\n",
    "    def bark(self):\n",
    "        return \"Woof!\"\n",
    "\n",
    "dog1 =Dog(\"Tommy\", 7)\n",
    "print(dog1.name)\n",
    "print(dog1.age)\n",
    "\n",
    "print(dog1.bark)"
   ]
  }
 ],
 "metadata": {
  "kernelspec": {
   "display_name": "Python 3",
   "language": "python",
   "name": "python3"
  },
  "language_info": {
   "codemirror_mode": {
    "name": "ipython",
    "version": 3
   },
   "file_extension": ".py",
   "mimetype": "text/x-python",
   "name": "python",
   "nbconvert_exporter": "python",
   "pygments_lexer": "ipython3",
   "version": "3.12.0"
  }
 },
 "nbformat": 4,
 "nbformat_minor": 5
}
